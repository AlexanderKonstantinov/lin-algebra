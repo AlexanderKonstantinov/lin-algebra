{
 "cells": [
  {
   "cell_type": "code",
   "execution_count": 1,
   "metadata": {},
   "outputs": [],
   "source": [
    "import numpy as np"
   ]
  },
  {
   "cell_type": "markdown",
   "metadata": {},
   "source": [
    "## Матрицы и матричные операции. Часть 1"
   ]
  },
  {
   "cell_type": "markdown",
   "metadata": {},
   "source": [
    "### 5*. Написать на Python функцию для перемножения двух произвольных матриц, не используя NumPy."
   ]
  },
  {
   "cell_type": "code",
   "execution_count": 2,
   "metadata": {},
   "outputs": [],
   "source": [
    "def check_matrices_ranges(a: [], b: []):\n",
    "    return len(a[0]) == len(b)"
   ]
  },
  {
   "cell_type": "code",
   "execution_count": 3,
   "metadata": {},
   "outputs": [],
   "source": [
    "def multiple_matrix_size(a: [], b: []):\n",
    "    m = len(a)\n",
    "    n = len(b[0])\n",
    "    \n",
    "    return (m, n)"
   ]
  },
  {
   "cell_type": "code",
   "execution_count": 4,
   "metadata": {},
   "outputs": [],
   "source": [
    "def custom_sum(a: [], b: []):\n",
    "    \n",
    "    rows = len(a)\n",
    "    cols = len(a[0])\n",
    "    \n",
    "    if rows != len(b) or cols != len(b[0]):\n",
    "        print('Invalid matrices for sum')\n",
    "        return None\n",
    "    \n",
    "    res = []\n",
    "    \n",
    "    for i in range(rows):\n",
    "        res.append([])\n",
    "        for j in range(cols):\n",
    "            res[i].append(a[i][j] + b[i][j])\n",
    "            \n",
    "    return res"
   ]
  },
  {
   "cell_type": "code",
   "execution_count": 5,
   "metadata": {},
   "outputs": [],
   "source": [
    "def custom_dot(a: [], b: []):\n",
    "        \n",
    "    if  not check_matrices_ranges:\n",
    "        print('Invalid matrices for multiply')\n",
    "        return None\n",
    "        \n",
    "    rows_b = len(b)\n",
    "    rows_a, cols_b = multiple_matrix_size(a, b)    \n",
    "        \n",
    "    res = []        \n",
    "    for i in range(rows_a):\n",
    "        res.append([])\n",
    "        for j in range(cols_b):\n",
    "            res[i].append(0)            \n",
    "            for k in range(rows_b):                \n",
    "                res[i][j] += a[i][k] * b[k][j]\n",
    "            \n",
    "    return res"
   ]
  },
  {
   "cell_type": "markdown",
   "metadata": {},
   "source": [
    "### 1. Установить, какие произведения матриц  AB  и  BA  определены, и найти размерности полученных матриц:\n",
    "\n",
    "а)  A  — матрица  4×2 ,  B  — матрица  4×2 ;\n",
    "\n",
    "б)  A  — матрица  2×5 ,  B  — матрица  5×3 ;\n",
    "\n",
    "в)  A  — матрица  8×3 ,  B  — матрица  3×8 ;\n",
    "\n",
    "г)  A  — квадратная матрица  4×4 ,  B  — квадратная матрица  4×4 ."
   ]
  },
  {
   "cell_type": "code",
   "execution_count": 6,
   "metadata": {},
   "outputs": [
    {
     "name": "stdout",
     "output_type": "stream",
     "text": [
      "\n",
      "№\tA\tB\tAB\tBA\n",
      "а)\t4x2\t4x2\t-\t-\n",
      "б)\t2x5\t5x3\t2x3\t-\n",
      "в)\t8x3\t3x8\t8x8\t3x3\n",
      "г)\t4x4\t4x4\t4x4\t4x4\n",
      "\n"
     ]
    }
   ],
   "source": [
    "print(f'''\n",
    "№\\tA\\tB\\tAB\\tBA\n",
    "а)\\t4x2\\t4x2\\t-\\t-\n",
    "б)\\t2x5\\t5x3\\t2x3\\t-\n",
    "в)\\t8x3\\t3x8\\t8x8\\t3x3\n",
    "г)\\t4x4\\t4x4\\t4x4\\t4x4\n",
    "''')"
   ]
  },
  {
   "cell_type": "markdown",
   "metadata": {},
   "source": [
    "### 2. Найти сумму и произведение матриц\n",
    "$\\displaystyle A=\\begin{pmatrix}\n",
    "1 & -2\\\\\n",
    "3 & 0\n",
    "\\end{pmatrix}$\n",
    " и \n",
    "$\\displaystyle B=\\begin{pmatrix}\n",
    "4 & -1\\\\\n",
    "0 & 5\n",
    "\\end{pmatrix}$"
   ]
  },
  {
   "cell_type": "code",
   "execution_count": 7,
   "metadata": {},
   "outputs": [
    {
     "name": "stdout",
     "output_type": "stream",
     "text": [
      "A + B = [[5, -3], [3, 5]]\n",
      "A x B = [[4, -11], [12, -3]]\n"
     ]
    }
   ],
   "source": [
    "a = [[1, -2], [3, 0]]\n",
    "b = [[4, -1], [0, 5]]\n",
    "\n",
    "amount = custom_sum(a, b)\n",
    "prod = custom_dot(a, b)\n",
    "\n",
    "print(f'A + B = {amount}\\nA x B = {prod}')"
   ]
  },
  {
   "cell_type": "markdown",
   "metadata": {},
   "source": [
    "### 3. Из закономерностей сложения и умножения матриц на число можно сделать вывод, что матрицы одного размера образуют линейное пространство. Вычислить линейную комбинацию  3A−2B+4C  для матриц  \n",
    "$\\displaystyle A=\\begin{pmatrix}\n",
    "1 & 7\\\\\n",
    "3 & -6\n",
    "\\end{pmatrix}$\n",
    ",\n",
    "$\\displaystyle B=\\begin{pmatrix}\n",
    "0 & 5\\\\\n",
    "2 & -1\n",
    "\\end{pmatrix}$\n",
    " и \n",
    " $\\displaystyle C=\\begin{pmatrix}\n",
    "2 & -4\\\\\n",
    "1 & 1\n",
    "\\end{pmatrix}$"
   ]
  },
  {
   "cell_type": "code",
   "execution_count": 8,
   "metadata": {},
   "outputs": [
    {
     "data": {
      "text/plain": [
       "array([[ 11,  -5],\n",
       "       [  9, -12]])"
      ]
     },
     "execution_count": 8,
     "metadata": {},
     "output_type": "execute_result"
    }
   ],
   "source": [
    "a = np.array([[1, 7], [3, -6]])\n",
    "b = np.array([[0, 5], [2, -1]])\n",
    "c = np.array([[2, -4], [1, 1]])\n",
    "\n",
    "3 * a - 2 * b + 4 * c"
   ]
  },
  {
   "cell_type": "markdown",
   "metadata": {},
   "source": [
    "### 4. Дана матрица  \n",
    "$\\displaystyle A=\\begin{pmatrix}\n",
    "4 & 1\\\\\n",
    "5 & -2\\\\\n",
    "2 & 3\n",
    "\\end{pmatrix}$. \n",
    "Вычислить $\\displaystyle AA^T $ и $\\displaystyle A^TA $."
   ]
  },
  {
   "cell_type": "code",
   "execution_count": 9,
   "metadata": {},
   "outputs": [
    {
     "data": {
      "text/plain": [
       "array([[17, 18, 11],\n",
       "       [18, 29,  4],\n",
       "       [11,  4, 13]])"
      ]
     },
     "execution_count": 9,
     "metadata": {},
     "output_type": "execute_result"
    }
   ],
   "source": [
    "a = np.array([[4, 1], [5, -2], [2, 3]])\n",
    "\n",
    "a.dot(a.T)"
   ]
  },
  {
   "cell_type": "code",
   "execution_count": 10,
   "metadata": {},
   "outputs": [
    {
     "data": {
      "text/plain": [
       "array([[45,  0],\n",
       "       [ 0, 14]])"
      ]
     },
     "execution_count": 10,
     "metadata": {},
     "output_type": "execute_result"
    }
   ],
   "source": [
    "a.T.dot(a)"
   ]
  },
  {
   "cell_type": "markdown",
   "metadata": {},
   "source": [
    "## Матрицы и матричные операции. Часть 2"
   ]
  },
  {
   "cell_type": "markdown",
   "metadata": {},
   "source": [
    "### 1. Вычислить определитель:\n",
    "а) $\\displaystyle \\begin{vmatrix}\n",
    "\\sin x & -\\cos x\\\\\n",
    "\\cos x & \\sin x\n",
    "\\end{vmatrix}$  \n",
    "\n",
    "б) $\\displaystyle \\begin{vmatrix}\n",
    "4 & 2 & 3\\\\\n",
    "0 & 5 & 1\\\\\n",
    "0 & 0 & 9\n",
    "\\end{vmatrix}$  \n",
    "\n",
    "в) $\\displaystyle \\begin{vmatrix}\n",
    "1 & 2 & 3\\\\\n",
    "4 & 5 & 6\\\\\n",
    "7 & 8 & 9\n",
    "\\end{vmatrix}$  "
   ]
  },
  {
   "cell_type": "markdown",
   "metadata": {},
   "source": [
    "#### Решение:\n",
    "а)\n",
    "$ \\displaystyle \\begin{pmatrix}\n",
    "\\sin x & -\\cos x\\\\\n",
    "\\cos x & \\sin x\n",
    "\\end{pmatrix} \\cdot \\begin{pmatrix}\n",
    "\\sin x & \\cos x\\\\\n",
    "-\\cos x & \\sin x\n",
    "\\end{pmatrix} =\\begin{pmatrix}\n",
    "\\sin x\\cdot \\sin x+( -\\cos x) \\cdot ( -\\cos x) & \\sin x\\cdot \\cos x+( -\\cos x) \\cdot \\sin x\\\\\n",
    "\\cos x\\cdot \\sin x+\\sin x\\cdot ( -\\cos x) & \\sin x\\cdot \\sin x+\\cos x\\cdot \\cos x\n",
    "\\end{pmatrix} =\\begin{pmatrix}\n",
    "1 & 0\\\\\n",
    "0 & 1\n",
    "\\end{pmatrix}$  \n",
    "#### det = 1 (из свойства ортогональной матрицы)"
   ]
  },
  {
   "cell_type": "code",
   "execution_count": 11,
   "metadata": {},
   "outputs": [
    {
     "name": "stdout",
     "output_type": "stream",
     "text": [
      "det = 180.0\n"
     ]
    }
   ],
   "source": [
    "# б)\n",
    "b = np.array([[4, 2, 3], [0, 5, 1], [0, 0, 9]])\n",
    "\n",
    "print(f'det = {np.linalg.det(b)}')"
   ]
  },
  {
   "cell_type": "markdown",
   "metadata": {},
   "source": [
    "в)$\\displaystyle \\begin{vmatrix}\n",
    "1 & 2 & 3\\\\\n",
    "4 & 5 & 6\\\\\n",
    "7 & 8 & 9\n",
    "\\end{vmatrix} =\\begin{vmatrix}\n",
    "1 & 2 & 3\\\\\n",
    "1 & 2 & 3\\\\\n",
    "7 & 8 & 9\n",
    "\\end{vmatrix} +\\begin{vmatrix}\n",
    "1 & 2 & 3\\\\\n",
    "3 & 3 & 3\\\\\n",
    "7 & 8 & 9\n",
    "\\end{vmatrix} =0+\\begin{vmatrix}\n",
    "1 & 2 & 3\\\\\n",
    "3 & 3 & 3\\\\\n",
    "1 & 2 & 3\n",
    "\\end{vmatrix} +\\begin{vmatrix}\n",
    "1 & 2 & 3\\\\\n",
    "3 & 3 & 3\\\\\n",
    "6 & 6 & 6\n",
    "\\end{vmatrix} =0$  \n",
    "#### det = 0 "
   ]
  },
  {
   "cell_type": "markdown",
   "metadata": {},
   "source": [
    "### 2. Определитель матрицы  A  равен  4 . Найти:\n",
    "\n",
    "а)  $ \\displaystyle det\\left( A^{2}\\right)$;\n",
    "\n",
    "б)  $ \\displaystyle det\\left( A^{T}\\right)$ ;\n",
    "\n",
    "в)  $ \\displaystyle det( 2A)$."
   ]
  },
  {
   "cell_type": "markdown",
   "metadata": {},
   "source": [
    "#### Решение:\n",
    "\n",
    "a) $ \\displaystyle det\\left( A^{2}\\right) =\\det A\\cdot \\det A=16$  \n",
    "\n",
    "б) $ \\displaystyle det\\left( A^{T}\\right) =\\det A=4$  \n",
    "\n",
    "в) $ \\displaystyle det( 2A) =2\\cdot \\det A=8$"
   ]
  },
  {
   "cell_type": "markdown",
   "metadata": {},
   "source": [
    "### 3. Доказать, что матрица  \n",
    "\\begin{pmatrix}\n",
    "-2 & 7 & -3\\\\\n",
    "4 & -14 & 6\\\\\n",
    "-3 & 7 & 13\n",
    "\\end{pmatrix}\n",
    "### вырожденная."
   ]
  },
  {
   "cell_type": "markdown",
   "metadata": {},
   "source": [
    "#### Решение:  \n",
    "$\\displaystyle \\begin{pmatrix}\n",
    "-2 & 7 & -3\\\\\n",
    "4 & -14 & 6\\\\\n",
    "-3 & 7 & 13\n",
    "\\end{pmatrix} =-2\\cdot \\begin{pmatrix}\n",
    "4 & -14 & 6\\\\\n",
    "4 & -14 & 6\\\\\n",
    "-3 & 7 & 13\n",
    "\\end{pmatrix} =0$"
   ]
  },
  {
   "cell_type": "markdown",
   "metadata": {},
   "source": [
    "### 4. Найти ранг матрицы:  \n",
    "а) $\\displaystyle \\begin{pmatrix}\n",
    "1 & 2 & 3\\\\\n",
    "1 & 1 & 1\\\\\n",
    "2 & 3 & 4\n",
    "\\end{pmatrix}$  \n",
    "\n",
    "б) $\\displaystyle \\begin{pmatrix}\n",
    "0 & 0 & 2 & 1\\\\\n",
    "0 & 0 & 2 & 2\\\\\n",
    "0 & 0 & 4 & 3\\\\\n",
    "2 & 3 & 5 & 6\n",
    "\\end{pmatrix}$"
   ]
  },
  {
   "cell_type": "code",
   "execution_count": 12,
   "metadata": {},
   "outputs": [
    {
     "name": "stdout",
     "output_type": "stream",
     "text": [
      "rank = 2\n"
     ]
    }
   ],
   "source": [
    "a = np.array([[1, 2, 3], [1, 1, 1], [2, 3, 4]])\n",
    "\n",
    "print(f'rank = {np.linalg.matrix_rank(a)}')"
   ]
  },
  {
   "cell_type": "code",
   "execution_count": 13,
   "metadata": {},
   "outputs": [
    {
     "name": "stdout",
     "output_type": "stream",
     "text": [
      "rank = 3\n"
     ]
    }
   ],
   "source": [
    "b = np.array([[0, 0, 2, 1], [0, 0, 2, 2], [0, 0, 4, 3], [2, 3, 5, 6]])\n",
    "\n",
    "print(f'rank = {np.linalg.matrix_rank(b)}')"
   ]
  }
 ],
 "metadata": {
  "kernelspec": {
   "display_name": "Python 3",
   "language": "python",
   "name": "python3"
  },
  "language_info": {
   "codemirror_mode": {
    "name": "ipython",
    "version": 3
   },
   "file_extension": ".py",
   "mimetype": "text/x-python",
   "name": "python",
   "nbconvert_exporter": "python",
   "pygments_lexer": "ipython3",
   "version": "3.7.6"
  }
 },
 "nbformat": 4,
 "nbformat_minor": 4
}
