{
 "cells": [
  {
   "cell_type": "code",
   "execution_count": 1,
   "metadata": {},
   "outputs": [],
   "source": [
    "import numpy as np \n",
    "from numpy.linalg import norm\n",
    "import math\n",
    "from math import sqrt"
   ]
  },
  {
   "cell_type": "markdown",
   "metadata": {},
   "source": [
    "## Линейное пространство. Основные понятия. Часть 1"
   ]
  },
  {
   "cell_type": "markdown",
   "metadata": {},
   "source": [
    "### 1. Исследовать на линейную зависимость:\n",
    "$\\displaystyle f_{1}( x) =e^{x} ,\\ f_{2}( x) =1,\\ f_{3}( x) =x+1,\\ f_{4}( x) =x-e^{x}$\n"
   ]
  },
  {
   "cell_type": "markdown",
   "metadata": {},
   "source": [
    "Функции f1 и f4 являются линейной комбинацией функций f2 и f3. Т. е. f1 + f4 = f2 + f3.  \n",
    "Следовательно, функции f1, f4 и f2, f3 линейно зависимы."
   ]
  },
  {
   "cell_type": "markdown",
   "metadata": {},
   "source": [
    "### 2. Исследовать на линейную зависимость:\n",
    "$\\displaystyle f_{1}( x) =2,\\ f_{2}( x) =x,\\ f_{3}( x) =x^{2} ,\\ f_{4}( x) =( x+1)^{2}$"
   ]
  },
  {
   "cell_type": "markdown",
   "metadata": {},
   "source": [
    "Функции f1, f2, f3 являются линейной комбинацией функции f4. Т. е. f1 + f3 + f3 = f4.  \n",
    "Следовательно, функции f1, f2, f3 и f4 линейно зависимы."
   ]
  },
  {
   "cell_type": "markdown",
   "metadata": {},
   "source": [
    "# 3. Найти координаты вектора  \n",
    "$\\displaystyle x=(2, 3, 5)∈R^3 $ в базисе $ b_1=(0, 0, 10),  b_2=(2, 0, 0),  b_3=(0, 1, 0) $\n",
    "### Решение:\n",
    "x = (2, 3, 5) = (0, 0, 5) + (2, 0, 0) + (0, 3, 0) = 2(0, 0, 10) + 1(2, 0, 0) + 3(0, 1, 0) = 2b1 + 1b2 + 3b3  \n",
    "Координатами вектора x базисе b1, b2, b3 являются 2, 1, 3"
   ]
  },
  {
   "cell_type": "markdown",
   "metadata": {},
   "source": [
    "### 4. Найти координаты вектора  $ \\displaystyle 3x^{2} −2x+2\\in R^{3}[ x] $\n",
    "\n",
    "а) в базисе  $ \\displaystyle 1,\\ x,\\ x^{2} $ ;\n",
    "\n",
    "б) в базисе  $ \\displaystyle x^{2} ,\\ x-1,\\ 1 $."
   ]
  },
  {
   "cell_type": "markdown",
   "metadata": {},
   "source": [
    "### Решение:\n",
    "a) Координатами вектора в базисе $ \\displaystyle 1,\\ x,\\ x^{2} $ являются 2, -2, 3  \n",
    "б) Пусть координаты искомого вектора равны $ \\displaystyle a_1, a_2, a_3 $.   \n",
    "Тогда $ \\displaystyle a_1 = 3 и -2x + 2 = a_2(x-1) + a_3 $  \n",
    "$ \\displaystyle -2_x + 2 = a_2x + (a_3 - a_2) -> a_2 = -2 $  \n",
    "$ \\displaystyle 2 = a_3 - (-2) -> a_3 = 0 $  \n",
    "Координатами вектора в базисе $ \\displaystyle x^{2} ,\\ x-1,\\ 1 $ являются 3, -2, 0"
   ]
  },
  {
   "cell_type": "markdown",
   "metadata": {},
   "source": [
    "### 5. Установить, является ли линейным подпространством:\n",
    "\n",
    "а) совокупность всех векторов трехмерного пространства, у которых по крайней мере одна из первых двух координат равна нулю;\n",
    "\n",
    "б) все векторы, являющиеся линейными комбинациями данных векторов  $\\displaystyle \\{u_{1} ,\\ u_{2} ,\\ ...,\\ u_{n}$\\}."
   ]
  },
  {
   "cell_type": "markdown",
   "metadata": {},
   "source": [
    "### Решение: \n",
    "а) Если правильно понял, то требуется определить являются ли все векторы, лежащие в двух плоскостях трехмерного пространства подпространством трехмерного пространства :)\n",
    "Являются, так как выполняются два условия:  \n",
    "1) сумма векторов принадлежит трехмерному пространству  \n",
    "2) произведения вектора на число также принадлежит трехмерному пространству"
   ]
  },
  {
   "cell_type": "markdown",
   "metadata": {},
   "source": [
    "## Линейное пространство. Основные понятия. Часть 2"
   ]
  },
  {
   "cell_type": "code",
   "execution_count": 2,
   "metadata": {},
   "outputs": [],
   "source": [
    "def dot_prod(x, y):    \n",
    "    prod = np.dot(np.array(x), np.array(y))\n",
    "    print(f'Скалярное произведение векторов x и y составляет: {prod}')"
   ]
  },
  {
   "cell_type": "markdown",
   "metadata": {},
   "source": [
    "### 1. Найти скалярное произведение векторов  x, y ∈ R:\n",
    "а) $\\displaystyle x=( 0,\\ -3,\\ 6) ,\\ y=( -4,\\ 7,\\ 9); $  "
   ]
  },
  {
   "cell_type": "code",
   "execution_count": 3,
   "metadata": {},
   "outputs": [
    {
     "name": "stdout",
     "output_type": "stream",
     "text": [
      "Скалярное произведение векторов x и y составляет: 33\n"
     ]
    }
   ],
   "source": [
    "x = [0, -3, 6]\n",
    "y = [-4, 7, 9]\n",
    "\n",
    "dot_prod(x, y)"
   ]
  },
  {
   "cell_type": "markdown",
   "metadata": {},
   "source": [
    "б) $\\displaystyle x=( 7,\\ -4,\\ 0,\\ 1) ,\\ y=( -3,\\ 1,\\ 11,\\ 2) .$"
   ]
  },
  {
   "cell_type": "code",
   "execution_count": 4,
   "metadata": {},
   "outputs": [
    {
     "name": "stdout",
     "output_type": "stream",
     "text": [
      "Скалярное произведение векторов x и y составляет: 19\n"
     ]
    }
   ],
   "source": [
    "x = [-7, -4, 0, 1]\n",
    "y = [-3, 1, 11, 2]\n",
    "\n",
    "dot_prod(x, y)"
   ]
  },
  {
   "cell_type": "code",
   "execution_count": 5,
   "metadata": {},
   "outputs": [],
   "source": [
    "def vec_angle(a, b):\n",
    "    cos_phi = np.dot(a, b) / (norm(a) * norm(b)) \n",
    "    return np.arccos(cos_phi)"
   ]
  },
  {
   "cell_type": "markdown",
   "metadata": {},
   "source": [
    "### 2. Найти нормы векторов  (4,2,4)  и  (12,3,4)  и угол между ними.\n",
    "### Решение:"
   ]
  },
  {
   "cell_type": "code",
   "execution_count": 6,
   "metadata": {},
   "outputs": [
    {
     "name": "stdout",
     "output_type": "stream",
     "text": [
      "\n",
      "Норма вектора a: L1 = 10.0\n",
      "Норма вектора b: L1 = 19.0\n",
      "Угол между векторами a и b: 0.457\n",
      "\n"
     ]
    }
   ],
   "source": [
    "a = np.array([4, 2, 4])\n",
    "b = np.array([12, 3, 4])\n",
    "\n",
    "a_norm = norm(a, ord=1)\n",
    "b_norm = norm(b, ord=1)\n",
    "\n",
    "phi = vec_angle(a, b)\n",
    "\n",
    "print(f'''\n",
    "Норма вектора a: L1 = {a_norm}\n",
    "Норма вектора b: L1 = {b_norm}\n",
    "Угол между векторами a и b: {phi:.3f}\n",
    "''')"
   ]
  },
  {
   "cell_type": "markdown",
   "metadata": {},
   "source": [
    "### 3. Будет ли линейное пространство евклидовым, если за скалярное произведение принять:\n",
    "а) произведение длин векторов;\n",
    "б) утроенное обычное скалярное произведение векторов?"
   ]
  },
  {
   "cell_type": "code",
   "execution_count": 7,
   "metadata": {},
   "outputs": [],
   "source": [
    "def vec_tests(tests: list):\n",
    "    print(f'Векторы {\"\" if all(tests) else \"не\"} образуют ортонормированный базис в линейном пространстве')"
   ]
  },
  {
   "cell_type": "markdown",
   "metadata": {},
   "source": [
    "### 4. Какие из нижеперечисленных векторов образуют ортонормированный базис в линейном пространстве  R3:\n",
    "а)  (1,0,0),(0,0,1);  \n",
    "б)  (1/2–√2,−1/2–√2,0),(1/2–√2,1/2–√,0),(0,0,1);  \n",
    "в)  (1/2,−1/2,0),(0,1/2,1/2),(0,0,1);  \n",
    "г)  (1,0,0),(0,1,0),(0,0,1)? "
   ]
  },
  {
   "cell_type": "markdown",
   "metadata": {},
   "source": [
    "Ортонормированный базис является ортогональным и состоит из векторов единичной длины."
   ]
  },
  {
   "cell_type": "code",
   "execution_count": 8,
   "metadata": {
    "scrolled": true
   },
   "outputs": [],
   "source": [
    "right_phi = math.pi / 2\n",
    "precision = 1e-6"
   ]
  },
  {
   "cell_type": "code",
   "execution_count": 9,
   "metadata": {},
   "outputs": [
    {
     "name": "stdout",
     "output_type": "stream",
     "text": [
      "Векторы  образуют ортонормированный базис в линейном пространстве\n"
     ]
    }
   ],
   "source": [
    "# а)\n",
    "a = np.array([1, 0, 0])\n",
    "b = np.array([0, 0, 1])\n",
    "\n",
    "tests = [vec_angle(a, b) - right_phi < precision, norm(a) == 1, norm(b) == 1]\n",
    "\n",
    "vec_tests(tests)"
   ]
  },
  {
   "cell_type": "code",
   "execution_count": 10,
   "metadata": {},
   "outputs": [
    {
     "name": "stdout",
     "output_type": "stream",
     "text": [
      "Векторы не образуют ортонормированный базис в линейном пространстве\n"
     ]
    }
   ],
   "source": [
    "# б)\n",
    "a = np.array([1 / sqrt(2), -1 / sqrt(2), 0])\n",
    "b = np.array([1 / sqrt(2), 1 / sqrt(2), 0])\n",
    "c = np.array([0, 0, 1])\n",
    "\n",
    "tests = [vec_angle(a, b), vec_angle(b, c), vec_angle(a, c), norm(a) == 1, norm(b) == 1, norm(c) == 1]\n",
    "\n",
    "vec_tests(tests)"
   ]
  },
  {
   "cell_type": "code",
   "execution_count": 11,
   "metadata": {},
   "outputs": [
    {
     "name": "stdout",
     "output_type": "stream",
     "text": [
      "Векторы не образуют ортонормированный базис в линейном пространстве\n"
     ]
    }
   ],
   "source": [
    "# в)\n",
    "a = np.array([1 / 2, -1 / 2, 0])\n",
    "b = np.array([0, 1 / 2, 1 / 2])\n",
    "b = np.array([0, 0, 1])\n",
    "\n",
    "tests = [vec_angle(a, b), vec_angle(b, c), vec_angle(a, c), norm(a) == 1, norm(b) == 1, norm(c) == 1]\n",
    "\n",
    "vec_tests([False])"
   ]
  }
 ],
 "metadata": {
  "kernelspec": {
   "display_name": "Python 3",
   "language": "python",
   "name": "python3"
  },
  "language_info": {
   "codemirror_mode": {
    "name": "ipython",
    "version": 3
   },
   "file_extension": ".py",
   "mimetype": "text/x-python",
   "name": "python",
   "nbconvert_exporter": "python",
   "pygments_lexer": "ipython3",
   "version": "3.7.6"
  }
 },
 "nbformat": 4,
 "nbformat_minor": 4
}
