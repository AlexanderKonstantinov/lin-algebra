{
 "cells": [
  {
   "cell_type": "code",
   "execution_count": 1,
   "metadata": {},
   "outputs": [],
   "source": [
    "import math\n",
    "import numpy as np\n",
    "np.set_printoptions(precision=3,suppress=True)"
   ]
  },
  {
   "cell_type": "markdown",
   "metadata": {},
   "source": [
    "## Сингулярное разложение матриц"
   ]
  },
  {
   "cell_type": "markdown",
   "metadata": {},
   "source": [
    "### 1. Найти с помощью NumPy SVD для матрицы\n",
    "\n",
    "$\\begin{pmatrix}\n",
    "1 & 2 & 0\\\\ \n",
    "0 & 0 & 5\\\\ \n",
    "3 & -4 & 2\\\\ \n",
    "1 & 6 & 5\\\\ \n",
    "0 & 1 & 0\n",
    "\\end{pmatrix}.$  \n",
    "\n",
    "#### Решение:"
   ]
  },
  {
   "cell_type": "code",
   "execution_count": 2,
   "metadata": {},
   "outputs": [
    {
     "name": "stdout",
     "output_type": "stream",
     "text": [
      "Матрица D:\n",
      "[[8.825 0.    0.   ]\n",
      " [0.    6.141 0.   ]\n",
      " [0.    0.    2.533]\n",
      " [0.    0.    0.   ]\n",
      " [0.    0.    0.   ]]\n",
      "\n",
      "Матрица U:\n",
      "[[ 0.171  0.157 -0.531]\n",
      " [ 0.393 -0.529  0.613]\n",
      " [-0.144 -0.824 -0.524]\n",
      " [ 0.888  0.061 -0.247]\n",
      " [ 0.081  0.108 -0.082]]\n",
      "\n",
      "Матрица V:\n",
      "[[ 0.071 -0.367 -0.927]\n",
      " [ 0.717  0.665 -0.208]\n",
      " [ 0.693 -0.65   0.311]]\n",
      "\n"
     ]
    }
   ],
   "source": [
    "a = np.array([[1, 2, 0], [0, 0, 5], [3, -4, 2], [1, 6, 5], [0, 1, 0]])\n",
    "\n",
    "u, s, vh = np.linalg.svd(a, full_matrices=False)\n",
    "\n",
    "v = vh.T\n",
    "d = np.zeros_like(a, dtype=float)\n",
    "d[np.diag_indices(min(a.shape))] = s\n",
    "\n",
    "print(f'Матрица D:\\n{d}\\n')\n",
    "print(f'Матрица U:\\n{u}\\n')\n",
    "print(f'Матрица V:\\n{v}\\n')"
   ]
  },
  {
   "cell_type": "markdown",
   "metadata": {},
   "source": [
    "### 2. Для матрицы из предыдущего задания найти:\n",
    "\n",
    "    а) евклидову норму;\n",
    "    \n",
    "    б) норму Фробениуса.  \n",
    "    \n",
    "#### Решение:"
   ]
  },
  {
   "cell_type": "code",
   "execution_count": 3,
   "metadata": {},
   "outputs": [
    {
     "data": {
      "text/plain": [
       "array([8.825, 6.141, 2.533])"
      ]
     },
     "execution_count": 3,
     "metadata": {},
     "output_type": "execute_result"
    }
   ],
   "source": [
    "s"
   ]
  },
  {
   "cell_type": "code",
   "execution_count": 4,
   "metadata": {
    "scrolled": true
   },
   "outputs": [
    {
     "name": "stdout",
     "output_type": "stream",
     "text": [
      "Евклидова норма: 8.824868854820448\n",
      "Норма Фробениуса: 11.045361017187265\n"
     ]
    }
   ],
   "source": [
    "euc_norm = max(s)\n",
    "fro_norm = math.sqrt(sum(map(lambda x: x ** 2, s))) # np.linalg.norm(a, ord='fro')\n",
    "\n",
    "print(f'Евклидова норма: {euc_norm}\\nНорма Фробениуса: {fro_norm}')"
   ]
  }
 ],
 "metadata": {
  "kernelspec": {
   "display_name": "Python 3",
   "language": "python",
   "name": "python3"
  },
  "language_info": {
   "codemirror_mode": {
    "name": "ipython",
    "version": 3
   },
   "file_extension": ".py",
   "mimetype": "text/x-python",
   "name": "python",
   "nbconvert_exporter": "python",
   "pygments_lexer": "ipython3",
   "version": "3.7.6"
  }
 },
 "nbformat": 4,
 "nbformat_minor": 4
}
